{
 "cells": [
  {
   "cell_type": "markdown",
   "metadata": {},
   "source": [
    "# 1. Import Dependencies"
   ]
  },
  {
   "cell_type": "code",
   "execution_count": 1,
   "metadata": {},
   "outputs": [
    {
     "name": "stdout",
     "output_type": "stream",
     "text": [
      "Looking in indexes: https://pypi.org/simple, https://pypi.ngc.nvidia.com\n",
      "Requirement already satisfied: opencv-python in c:\\users\\eric\\anaconda3\\envs\\286\\lib\\site-packages (4.9.0.80)\n",
      "Requirement already satisfied: numpy>=1.17.0 in c:\\users\\eric\\anaconda3\\envs\\286\\lib\\site-packages (from opencv-python) (1.26.4)\n"
     ]
    }
   ],
   "source": [
    "!pip install opencv-python"
   ]
  },
  {
   "cell_type": "code",
   "execution_count": 2,
   "metadata": {},
   "outputs": [],
   "source": [
    "# Import opencv\n",
    "import cv2 \n",
    "\n",
    "# Import uuid\n",
    "import uuid\n",
    "\n",
    "# Import Operating System\n",
    "import os\n",
    "\n",
    "# Import time\n",
    "import time"
   ]
  },
  {
   "cell_type": "markdown",
   "metadata": {},
   "source": [
    "# 2. Define Images to Collect"
   ]
  },
  {
   "cell_type": "code",
   "execution_count": 3,
   "metadata": {},
   "outputs": [],
   "source": [
    "labels = ['plastic']\n",
    "number_imgs = 5"
   ]
  },
  {
   "cell_type": "markdown",
   "metadata": {},
   "source": [
    "# 3. Setup Folders "
   ]
  },
  {
   "cell_type": "code",
   "execution_count": 4,
   "metadata": {},
   "outputs": [],
   "source": [
    "IMAGES_PATH = os.path.join('Tensorflow', 'workspace', 'images', 'collectedimages')"
   ]
  },
  {
   "cell_type": "code",
   "execution_count": 5,
   "metadata": {},
   "outputs": [],
   "source": [
    "if not os.path.exists(IMAGES_PATH):\n",
    "    if os.name == 'posix':\n",
    "        !mkdir -p {IMAGES_PATH}\n",
    "    if os.name == 'nt':\n",
    "         !mkdir {IMAGES_PATH}\n",
    "for label in labels:\n",
    "    path = os.path.join(IMAGES_PATH, label)\n",
    "    if not os.path.exists(path):\n",
    "        !mkdir {path}"
   ]
  },
  {
   "cell_type": "markdown",
   "metadata": {},
   "source": [
    "# 4. Capture Images"
   ]
  },
  {
   "cell_type": "code",
   "execution_count": 18,
   "metadata": {},
   "outputs": [
    {
     "name": "stdout",
     "output_type": "stream",
     "text": [
      "Collecting images for thumbsup\n",
      "Collecting image 0\n",
      "Collecting image 1\n",
      "Collecting image 2\n",
      "Collecting image 3\n",
      "Collecting image 4\n"
     ]
    }
   ],
   "source": [
    "for label in labels:\n",
    "    cap = cv2.VideoCapture(0)\n",
    "    print('Collecting images for {}'.format(label))\n",
    "    time.sleep(5)\n",
    "    for imgnum in range(number_imgs):\n",
    "        print('Collecting image {}'.format(imgnum))\n",
    "        ret, frame = cap.read()\n",
    "        imgname = os.path.join(IMAGES_PATH,label,label+'.'+'{}.jpg'.format(str(uuid.uuid1())))\n",
    "        cv2.imwrite(imgname, frame)\n",
    "        cv2.imshow('frame', frame)\n",
    "        time.sleep(2)\n",
    "\n",
    "        if cv2.waitKey(1) & 0xFF == ord('q'):\n",
    "            break\n",
    "cap.release()\n",
    "cv2.destroyAllWindows()"
   ]
  },
  {
   "cell_type": "markdown",
   "metadata": {},
   "source": [
    "# 5. Image Labelling"
   ]
  },
  {
   "cell_type": "code",
   "execution_count": 6,
   "metadata": {},
   "outputs": [
    {
     "name": "stdout",
     "output_type": "stream",
     "text": [
      "Looking in indexes: https://pypi.org/simple, https://pypi.ngc.nvidia.com\n",
      "Collecting pyqt5\n",
      "  Downloading PyQt5-5.15.10-cp37-abi3-win_amd64.whl.metadata (2.2 kB)\n",
      "Requirement already satisfied: lxml in c:\\users\\eric\\anaconda3\\envs\\286\\lib\\site-packages (5.2.1)\n",
      "Collecting PyQt5-sip<13,>=12.13 (from pyqt5)\n",
      "  Downloading PyQt5_sip-12.13.0-cp39-cp39-win_amd64.whl.metadata (524 bytes)\n",
      "Collecting PyQt5-Qt5>=5.15.2 (from pyqt5)\n",
      "  Downloading PyQt5_Qt5-5.15.2-py3-none-win_amd64.whl.metadata (552 bytes)\n",
      "Downloading PyQt5-5.15.10-cp37-abi3-win_amd64.whl (6.8 MB)\n",
      "   ---------------------------------------- 0.0/6.8 MB ? eta -:--:--\n",
      "   ---------------------------------------- 0.0/6.8 MB 1.3 MB/s eta 0:00:06\n",
      "    --------------------------------------- 0.1/6.8 MB 1.8 MB/s eta 0:00:04\n",
      "   --- ------------------------------------ 0.6/6.8 MB 5.0 MB/s eta 0:00:02\n",
      "   --------- ------------------------------ 1.6/6.8 MB 10.3 MB/s eta 0:00:01\n",
      "   ------------------------------- -------- 5.5/6.8 MB 26.9 MB/s eta 0:00:01\n",
      "   ---------------------------------------- 6.8/6.8 MB 31.2 MB/s eta 0:00:00\n",
      "Downloading PyQt5_Qt5-5.15.2-py3-none-win_amd64.whl (50.1 MB)\n",
      "   ---------------------------------------- 0.0/50.1 MB ? eta -:--:--\n",
      "   --- ------------------------------------ 4.6/50.1 MB 98.7 MB/s eta 0:00:01\n",
      "   ------- -------------------------------- 9.9/50.1 MB 106.4 MB/s eta 0:00:01\n",
      "   ------------ --------------------------- 15.2/50.1 MB 110.0 MB/s eta 0:00:01\n",
      "   ---------------- ----------------------- 20.5/50.1 MB 108.8 MB/s eta 0:00:01\n",
      "   -------------------- ------------------- 25.8/50.1 MB 108.8 MB/s eta 0:00:01\n",
      "   ------------------------ --------------- 31.0/50.1 MB 108.8 MB/s eta 0:00:01\n",
      "   ----------------------------- ---------- 36.3/50.1 MB 108.8 MB/s eta 0:00:01\n",
      "   --------------------------------- ------ 41.7/50.1 MB 108.8 MB/s eta 0:00:01\n",
      "   ------------------------------------- -- 47.0/50.1 MB 108.8 MB/s eta 0:00:01\n",
      "   ---------------------------------------- 50.1/50.1 MB 131.0 MB/s eta 0:00:00\n",
      "Downloading PyQt5_sip-12.13.0-cp39-cp39-win_amd64.whl (78 kB)\n",
      "   ---------------------------------------- 0.0/78.5 kB ? eta -:--:--\n",
      "   ---------------------------------------- 78.5/78.5 kB ? eta 0:00:00\n",
      "Installing collected packages: PyQt5-Qt5, PyQt5-sip, pyqt5\n",
      "Successfully installed PyQt5-Qt5-5.15.2 PyQt5-sip-12.13.0 pyqt5-5.15.10\n"
     ]
    }
   ],
   "source": [
    "!pip install --upgrade pyqt5 lxml"
   ]
  },
  {
   "cell_type": "code",
   "execution_count": 7,
   "metadata": {},
   "outputs": [],
   "source": [
    "LABELIMG_PATH = os.path.join('Tensorflow', 'labelimg')"
   ]
  },
  {
   "cell_type": "code",
   "execution_count": 8,
   "metadata": {},
   "outputs": [
    {
     "name": "stderr",
     "output_type": "stream",
     "text": [
      "Cloning into 'Tensorflow\\labelimg'...\n"
     ]
    }
   ],
   "source": [
    "if not os.path.exists(LABELIMG_PATH):\n",
    "    !mkdir {LABELIMG_PATH}\n",
    "    !git clone https://github.com/tzutalin/labelImg {LABELIMG_PATH}"
   ]
  },
  {
   "cell_type": "code",
   "execution_count": 9,
   "metadata": {},
   "outputs": [],
   "source": [
    "if os.name == 'posix':\n",
    "    !make qt5py3\n",
    "if os.name =='nt':\n",
    "    !cd {LABELIMG_PATH} && pyrcc5 -o libs/resources.py resources.qrc"
   ]
  },
  {
   "cell_type": "code",
   "execution_count": 10,
   "metadata": {},
   "outputs": [
    {
     "name": "stdout",
     "output_type": "stream",
     "text": [
      "Cancel creation.\n",
      "Image:A:\\Desktop\\Spring_2024_Upload\\CS_286\\Project\\TFODCourse\\Tensorflow\\workspace\\images\\collectedimages\\plastic\\plastic (1).jpg -> Annotation:A:/Desktop/Spring_2024_Upload/CS_286/Project/TFODCourse/Tensorflow/workspace/images/collectedimages/plastic\\plastic (1).xml\n",
      "Image:A:\\Desktop\\Spring_2024_Upload\\CS_286\\Project\\TFODCourse\\Tensorflow\\workspace\\images\\collectedimages\\plastic\\plastic (2).jpg -> Annotation:A:/Desktop/Spring_2024_Upload/CS_286/Project/TFODCourse/Tensorflow/workspace/images/collectedimages/plastic\\plastic (2).xml\n",
      "Image:A:\\Desktop\\Spring_2024_Upload\\CS_286\\Project\\TFODCourse\\Tensorflow\\workspace\\images\\collectedimages\\plastic\\plastic (3).jpg -> Annotation:A:/Desktop/Spring_2024_Upload/CS_286/Project/TFODCourse/Tensorflow/workspace/images/collectedimages/plastic\\plastic (3).xml\n",
      "Image:A:\\Desktop\\Spring_2024_Upload\\CS_286\\Project\\TFODCourse\\Tensorflow\\workspace\\images\\collectedimages\\plastic\\plastic (4).jpg -> Annotation:A:/Desktop/Spring_2024_Upload/CS_286/Project/TFODCourse/Tensorflow/workspace/images/collectedimages/plastic\\plastic (4).xml\n",
      "Image:A:\\Desktop\\Spring_2024_Upload\\CS_286\\Project\\TFODCourse\\Tensorflow\\workspace\\images\\collectedimages\\plastic\\plastic (5).jpg -> Annotation:A:/Desktop/Spring_2024_Upload/CS_286/Project/TFODCourse/Tensorflow/workspace/images/collectedimages/plastic\\plastic (5).xml\n",
      "Image:A:\\Desktop\\Spring_2024_Upload\\CS_286\\Project\\TFODCourse\\Tensorflow\\workspace\\images\\collectedimages\\plastic\\plastic (6).jpg -> Annotation:A:/Desktop/Spring_2024_Upload/CS_286/Project/TFODCourse/Tensorflow/workspace/images/collectedimages/plastic\\plastic (6).xml\n",
      "Cancel creation.\n",
      "Image:A:\\Desktop\\Spring_2024_Upload\\CS_286\\Project\\TFODCourse\\Tensorflow\\workspace\\images\\collectedimages\\plastic\\plastic (7).jpg -> Annotation:A:/Desktop/Spring_2024_Upload/CS_286/Project/TFODCourse/Tensorflow/workspace/images/collectedimages/plastic\\plastic (7).xml\n",
      "Image:A:\\Desktop\\Spring_2024_Upload\\CS_286\\Project\\TFODCourse\\Tensorflow\\workspace\\images\\collectedimages\\plastic\\plastic (8).jpg -> Annotation:A:/Desktop/Spring_2024_Upload/CS_286/Project/TFODCourse/Tensorflow/workspace/images/collectedimages/plastic\\plastic (8).xml\n",
      "Image:A:\\Desktop\\Spring_2024_Upload\\CS_286\\Project\\TFODCourse\\Tensorflow\\workspace\\images\\collectedimages\\plastic\\plastic (9).jpg -> Annotation:A:/Desktop/Spring_2024_Upload/CS_286/Project/TFODCourse/Tensorflow/workspace/images/collectedimages/plastic\\plastic (9).xml\n",
      "Cancel creation.\n",
      "Image:A:\\Desktop\\Spring_2024_Upload\\CS_286\\Project\\TFODCourse\\Tensorflow\\workspace\\images\\collectedimages\\plastic\\plastic (10).jpg -> Annotation:A:/Desktop/Spring_2024_Upload/CS_286/Project/TFODCourse/Tensorflow/workspace/images/collectedimages/plastic\\plastic (10).xml\n",
      "Image:A:\\Desktop\\Spring_2024_Upload\\CS_286\\Project\\TFODCourse\\Tensorflow\\workspace\\images\\collectedimages\\plastic\\plastic (12).jpg -> Annotation:A:/Desktop/Spring_2024_Upload/CS_286/Project/TFODCourse/Tensorflow/workspace/images/collectedimages/plastic\\plastic (12).xml\n",
      "Image:A:\\Desktop\\Spring_2024_Upload\\CS_286\\Project\\TFODCourse\\Tensorflow\\workspace\\images\\collectedimages\\plastic\\plastic (13).jpg -> Annotation:A:/Desktop/Spring_2024_Upload/CS_286/Project/TFODCourse/Tensorflow/workspace/images/collectedimages/plastic\\plastic (13).xml\n",
      "Image:A:\\Desktop\\Spring_2024_Upload\\CS_286\\Project\\TFODCourse\\Tensorflow\\workspace\\images\\collectedimages\\plastic\\plastic (14).jpg -> Annotation:A:/Desktop/Spring_2024_Upload/CS_286/Project/TFODCourse/Tensorflow/workspace/images/collectedimages/plastic\\plastic (14).xml\n",
      "Image:A:\\Desktop\\Spring_2024_Upload\\CS_286\\Project\\TFODCourse\\Tensorflow\\workspace\\images\\collectedimages\\plastic\\plastic (15).jpg -> Annotation:A:/Desktop/Spring_2024_Upload/CS_286/Project/TFODCourse/Tensorflow/workspace/images/collectedimages/plastic\\plastic (15).xml\n",
      "Image:A:\\Desktop\\Spring_2024_Upload\\CS_286\\Project\\TFODCourse\\Tensorflow\\workspace\\images\\collectedimages\\plastic\\plastic (16).jpg -> Annotation:A:/Desktop/Spring_2024_Upload/CS_286/Project/TFODCourse/Tensorflow/workspace/images/collectedimages/plastic\\plastic (16).xml\n",
      "Image:A:\\Desktop\\Spring_2024_Upload\\CS_286\\Project\\TFODCourse\\Tensorflow\\workspace\\images\\collectedimages\\plastic\\plastic (17).jpg -> Annotation:A:/Desktop/Spring_2024_Upload/CS_286/Project/TFODCourse/Tensorflow/workspace/images/collectedimages/plastic\\plastic (17).xml\n",
      "Cancel creation.\n",
      "Image:A:\\Desktop\\Spring_2024_Upload\\CS_286\\Project\\TFODCourse\\Tensorflow\\workspace\\images\\collectedimages\\plastic\\plastic (18).jpg -> Annotation:A:/Desktop/Spring_2024_Upload/CS_286/Project/TFODCourse/Tensorflow/workspace/images/collectedimages/plastic\\plastic (18).xml\n",
      "Image:A:\\Desktop\\Spring_2024_Upload\\CS_286\\Project\\TFODCourse\\Tensorflow\\workspace\\images\\collectedimages\\plastic\\plastic (19).jpg -> Annotation:A:/Desktop/Spring_2024_Upload/CS_286/Project/TFODCourse/Tensorflow/workspace/images/collectedimages/plastic\\plastic (19).xml\n",
      "Image:A:\\Desktop\\Spring_2024_Upload\\CS_286\\Project\\TFODCourse\\Tensorflow\\workspace\\images\\collectedimages\\plastic\\plastic (20).jpg -> Annotation:A:/Desktop/Spring_2024_Upload/CS_286/Project/TFODCourse/Tensorflow/workspace/images/collectedimages/plastic\\plastic (20).xml\n",
      "Image:A:\\Desktop\\Spring_2024_Upload\\CS_286\\Project\\TFODCourse\\Tensorflow\\workspace\\images\\collectedimages\\plastic\\plastic (22).jpg -> Annotation:A:/Desktop/Spring_2024_Upload/CS_286/Project/TFODCourse/Tensorflow/workspace/images/collectedimages/plastic\\plastic (22).xml\n",
      "Image:A:\\Desktop\\Spring_2024_Upload\\CS_286\\Project\\TFODCourse\\Tensorflow\\workspace\\images\\collectedimages\\plastic\\plastic (23).jpg -> Annotation:A:/Desktop/Spring_2024_Upload/CS_286/Project/TFODCourse/Tensorflow/workspace/images/collectedimages/plastic\\plastic (23).xml\n",
      "Image:A:\\Desktop\\Spring_2024_Upload\\CS_286\\Project\\TFODCourse\\Tensorflow\\workspace\\images\\collectedimages\\plastic\\plastic (24).jpg -> Annotation:A:/Desktop/Spring_2024_Upload/CS_286/Project/TFODCourse/Tensorflow/workspace/images/collectedimages/plastic\\plastic (24).xml\n",
      "Image:A:\\Desktop\\Spring_2024_Upload\\CS_286\\Project\\TFODCourse\\Tensorflow\\workspace\\images\\collectedimages\\plastic\\plastic (25).jpg -> Annotation:A:/Desktop/Spring_2024_Upload/CS_286/Project/TFODCourse/Tensorflow/workspace/images/collectedimages/plastic\\plastic (25).xml\n",
      "Image:A:\\Desktop\\Spring_2024_Upload\\CS_286\\Project\\TFODCourse\\Tensorflow\\workspace\\images\\collectedimages\\plastic\\plastic (26).jpg -> Annotation:A:/Desktop/Spring_2024_Upload/CS_286/Project/TFODCourse/Tensorflow/workspace/images/collectedimages/plastic\\plastic (26).xml\n",
      "Image:A:\\Desktop\\Spring_2024_Upload\\CS_286\\Project\\TFODCourse\\Tensorflow\\workspace\\images\\collectedimages\\plastic\\plastic (27).jpg -> Annotation:A:/Desktop/Spring_2024_Upload/CS_286/Project/TFODCourse/Tensorflow/workspace/images/collectedimages/plastic\\plastic (27).xml\n",
      "Image:A:\\Desktop\\Spring_2024_Upload\\CS_286\\Project\\TFODCourse\\Tensorflow\\workspace\\images\\collectedimages\\plastic\\plastic (28).jpg -> Annotation:A:/Desktop/Spring_2024_Upload/CS_286/Project/TFODCourse/Tensorflow/workspace/images/collectedimages/plastic\\plastic (28).xml\n",
      "Image:A:\\Desktop\\Spring_2024_Upload\\CS_286\\Project\\TFODCourse\\Tensorflow\\workspace\\images\\collectedimages\\plastic\\plastic (29).jpg -> Annotation:A:/Desktop/Spring_2024_Upload/CS_286/Project/TFODCourse/Tensorflow/workspace/images/collectedimages/plastic\\plastic (29).xml\n",
      "Image:A:\\Desktop\\Spring_2024_Upload\\CS_286\\Project\\TFODCourse\\Tensorflow\\workspace\\images\\collectedimages\\plastic\\plastic (30).jpg -> Annotation:A:/Desktop/Spring_2024_Upload/CS_286/Project/TFODCourse/Tensorflow/workspace/images/collectedimages/plastic\\plastic (30).xml\n",
      "Image:A:\\Desktop\\Spring_2024_Upload\\CS_286\\Project\\TFODCourse\\Tensorflow\\workspace\\images\\collectedimages\\plastic\\plastic (31).jpg -> Annotation:A:/Desktop/Spring_2024_Upload/CS_286/Project/TFODCourse/Tensorflow/workspace/images/collectedimages/plastic\\plastic (31).xml\n",
      "Image:A:\\Desktop\\Spring_2024_Upload\\CS_286\\Project\\TFODCourse\\Tensorflow\\workspace\\images\\collectedimages\\plastic\\plastic (32).jpg -> Annotation:A:/Desktop/Spring_2024_Upload/CS_286/Project/TFODCourse/Tensorflow/workspace/images/collectedimages/plastic\\plastic (32).xml\n",
      "Image:A:\\Desktop\\Spring_2024_Upload\\CS_286\\Project\\TFODCourse\\Tensorflow\\workspace\\images\\collectedimages\\plastic\\plastic (33).jpg -> Annotation:A:/Desktop/Spring_2024_Upload/CS_286/Project/TFODCourse/Tensorflow/workspace/images/collectedimages/plastic\\plastic (33).xml\n",
      "Cancel creation.\n",
      "Image:A:\\Desktop\\Spring_2024_Upload\\CS_286\\Project\\TFODCourse\\Tensorflow\\workspace\\images\\collectedimages\\plastic\\plastic (35).jpg -> Annotation:A:/Desktop/Spring_2024_Upload/CS_286/Project/TFODCourse/Tensorflow/workspace/images/collectedimages/plastic\\plastic (35).xml\n",
      "Image:A:\\Desktop\\Spring_2024_Upload\\CS_286\\Project\\TFODCourse\\Tensorflow\\workspace\\images\\collectedimages\\plastic\\plastic (35).jpg -> Annotation:A:/Desktop/Spring_2024_Upload/CS_286/Project/TFODCourse/Tensorflow/workspace/images/collectedimages/plastic\\plastic (35).xml\n",
      "Image:A:\\Desktop\\Spring_2024_Upload\\CS_286\\Project\\TFODCourse\\Tensorflow\\workspace\\images\\collectedimages\\plastic\\plastic (35).jpg -> Annotation:A:/Desktop/Spring_2024_Upload/CS_286/Project/TFODCourse/Tensorflow/workspace/images/collectedimages/plastic\\plastic (35).xml\n",
      "Image:A:\\Desktop\\Spring_2024_Upload\\CS_286\\Project\\TFODCourse\\Tensorflow\\workspace\\images\\collectedimages\\plastic\\plastic (36).jpg -> Annotation:A:/Desktop/Spring_2024_Upload/CS_286/Project/TFODCourse/Tensorflow/workspace/images/collectedimages/plastic\\plastic (36).xml\n",
      "Image:A:\\Desktop\\Spring_2024_Upload\\CS_286\\Project\\TFODCourse\\Tensorflow\\workspace\\images\\collectedimages\\plastic\\plastic (37).jpg -> Annotation:A:/Desktop/Spring_2024_Upload/CS_286/Project/TFODCourse/Tensorflow/workspace/images/collectedimages/plastic\\plastic (37).xml\n",
      "Image:A:\\Desktop\\Spring_2024_Upload\\CS_286\\Project\\TFODCourse\\Tensorflow\\workspace\\images\\collectedimages\\plastic\\plastic (39).jpg -> Annotation:A:/Desktop/Spring_2024_Upload/CS_286/Project/TFODCourse/Tensorflow/workspace/images/collectedimages/plastic\\plastic (39).xml\n",
      "Image:A:\\Desktop\\Spring_2024_Upload\\CS_286\\Project\\TFODCourse\\Tensorflow\\workspace\\images\\collectedimages\\plastic\\plastic (40).jpg -> Annotation:A:/Desktop/Spring_2024_Upload/CS_286/Project/TFODCourse/Tensorflow/workspace/images/collectedimages/plastic\\plastic (40).xml\n",
      "Image:A:\\Desktop\\Spring_2024_Upload\\CS_286\\Project\\TFODCourse\\Tensorflow\\workspace\\images\\collectedimages\\plastic\\plastic (41).jpg -> Annotation:A:/Desktop/Spring_2024_Upload/CS_286/Project/TFODCourse/Tensorflow/workspace/images/collectedimages/plastic\\plastic (41).xml\n",
      "Image:A:\\Desktop\\Spring_2024_Upload\\CS_286\\Project\\TFODCourse\\Tensorflow\\workspace\\images\\collectedimages\\plastic\\plastic (42).jpg -> Annotation:A:/Desktop/Spring_2024_Upload/CS_286/Project/TFODCourse/Tensorflow/workspace/images/collectedimages/plastic\\plastic (42).xml\n",
      "Image:A:\\Desktop\\Spring_2024_Upload\\CS_286\\Project\\TFODCourse\\Tensorflow\\workspace\\images\\collectedimages\\plastic\\plastic (43).jpg -> Annotation:A:/Desktop/Spring_2024_Upload/CS_286/Project/TFODCourse/Tensorflow/workspace/images/collectedimages/plastic\\plastic (43).xml\n",
      "Image:A:\\Desktop\\Spring_2024_Upload\\CS_286\\Project\\TFODCourse\\Tensorflow\\workspace\\images\\collectedimages\\plastic\\plastic (44).jpg -> Annotation:A:/Desktop/Spring_2024_Upload/CS_286/Project/TFODCourse/Tensorflow/workspace/images/collectedimages/plastic\\plastic (44).xml\n",
      "Image:A:\\Desktop\\Spring_2024_Upload\\CS_286\\Project\\TFODCourse\\Tensorflow\\workspace\\images\\collectedimages\\plastic\\plastic (45).jpg -> Annotation:A:/Desktop/Spring_2024_Upload/CS_286/Project/TFODCourse/Tensorflow/workspace/images/collectedimages/plastic\\plastic (45).xml\n",
      "Image:A:\\Desktop\\Spring_2024_Upload\\CS_286\\Project\\TFODCourse\\Tensorflow\\workspace\\images\\collectedimages\\plastic\\plastic (46).jpg -> Annotation:A:/Desktop/Spring_2024_Upload/CS_286/Project/TFODCourse/Tensorflow/workspace/images/collectedimages/plastic\\plastic (46).xml\n",
      "Cancel creation.\n",
      "Image:A:\\Desktop\\Spring_2024_Upload\\CS_286\\Project\\TFODCourse\\Tensorflow\\workspace\\images\\collectedimages\\plastic\\plastic (48).jpg -> Annotation:A:/Desktop/Spring_2024_Upload/CS_286/Project/TFODCourse/Tensorflow/workspace/images/collectedimages/plastic\\plastic (48).xml\n",
      "Image:A:\\Desktop\\Spring_2024_Upload\\CS_286\\Project\\TFODCourse\\Tensorflow\\workspace\\images\\collectedimages\\plastic\\plastic (49).jpg -> Annotation:A:/Desktop/Spring_2024_Upload/CS_286/Project/TFODCourse/Tensorflow/workspace/images/collectedimages/plastic\\plastic (49).xml\n",
      "Image:A:\\Desktop\\Spring_2024_Upload\\CS_286\\Project\\TFODCourse\\Tensorflow\\workspace\\images\\collectedimages\\plastic\\plastic (50).jpg -> Annotation:A:/Desktop/Spring_2024_Upload/CS_286/Project/TFODCourse/Tensorflow/workspace/images/collectedimages/plastic\\plastic (50).xml\n",
      "Cancel creation.\n",
      "Image:A:\\Desktop\\Spring_2024_Upload\\CS_286\\Project\\TFODCourse\\Tensorflow\\workspace\\images\\collectedimages\\plastic\\plastic (51).jpg -> Annotation:A:/Desktop/Spring_2024_Upload/CS_286/Project/TFODCourse/Tensorflow/workspace/images/collectedimages/plastic\\plastic (51).xml\n",
      "Cancel creation.\n",
      "Image:A:\\Desktop\\Spring_2024_Upload\\CS_286\\Project\\TFODCourse\\Tensorflow\\workspace\\images\\collectedimages\\plastic\\plastic (52).jpg -> Annotation:A:/Desktop/Spring_2024_Upload/CS_286/Project/TFODCourse/Tensorflow/workspace/images/collectedimages/plastic\\plastic (52).xml\n",
      "Image:A:\\Desktop\\Spring_2024_Upload\\CS_286\\Project\\TFODCourse\\Tensorflow\\workspace\\images\\collectedimages\\plastic\\plastic (53).jpg -> Annotation:A:/Desktop/Spring_2024_Upload/CS_286/Project/TFODCourse/Tensorflow/workspace/images/collectedimages/plastic\\plastic (53).xml\n",
      "Cancel creation.\n",
      "Cancel creation.\n",
      "Image:A:\\Desktop\\Spring_2024_Upload\\CS_286\\Project\\TFODCourse\\Tensorflow\\workspace\\images\\collectedimages\\plastic\\plastic (54).jpg -> Annotation:A:/Desktop/Spring_2024_Upload/CS_286/Project/TFODCourse/Tensorflow/workspace/images/collectedimages/plastic\\plastic (54).xml\n",
      "Image:A:\\Desktop\\Spring_2024_Upload\\CS_286\\Project\\TFODCourse\\Tensorflow\\workspace\\images\\collectedimages\\plastic\\plastic (55).jpg -> Annotation:A:/Desktop/Spring_2024_Upload/CS_286/Project/TFODCourse/Tensorflow/workspace/images/collectedimages/plastic\\plastic (55).xml\n",
      "Image:A:\\Desktop\\Spring_2024_Upload\\CS_286\\Project\\TFODCourse\\Tensorflow\\workspace\\images\\collectedimages\\plastic\\plastic (56).jpg -> Annotation:A:/Desktop/Spring_2024_Upload/CS_286/Project/TFODCourse/Tensorflow/workspace/images/collectedimages/plastic\\plastic (56).xml\n",
      "Image:A:\\Desktop\\Spring_2024_Upload\\CS_286\\Project\\TFODCourse\\Tensorflow\\workspace\\images\\collectedimages\\plastic\\plastic (57).jpg -> Annotation:A:/Desktop/Spring_2024_Upload/CS_286/Project/TFODCourse/Tensorflow/workspace/images/collectedimages/plastic\\plastic (57).xml\n",
      "Image:A:\\Desktop\\Spring_2024_Upload\\CS_286\\Project\\TFODCourse\\Tensorflow\\workspace\\images\\collectedimages\\plastic\\plastic (58).jpg -> Annotation:A:/Desktop/Spring_2024_Upload/CS_286/Project/TFODCourse/Tensorflow/workspace/images/collectedimages/plastic\\plastic (58).xml\n",
      "Image:A:\\Desktop\\Spring_2024_Upload\\CS_286\\Project\\TFODCourse\\Tensorflow\\workspace\\images\\collectedimages\\plastic\\plastic (59).jpg -> Annotation:A:/Desktop/Spring_2024_Upload/CS_286/Project/TFODCourse/Tensorflow/workspace/images/collectedimages/plastic\\plastic (59).xml\n",
      "Image:A:\\Desktop\\Spring_2024_Upload\\CS_286\\Project\\TFODCourse\\Tensorflow\\workspace\\images\\collectedimages\\plastic\\plastic (60).jpg -> Annotation:A:/Desktop/Spring_2024_Upload/CS_286/Project/TFODCourse/Tensorflow/workspace/images/collectedimages/plastic\\plastic (60).xml\n",
      "Image:A:\\Desktop\\Spring_2024_Upload\\CS_286\\Project\\TFODCourse\\Tensorflow\\workspace\\images\\collectedimages\\plastic\\plastic (61).jpg -> Annotation:A:/Desktop/Spring_2024_Upload/CS_286/Project/TFODCourse/Tensorflow/workspace/images/collectedimages/plastic\\plastic (61).xml\n",
      "Image:A:\\Desktop\\Spring_2024_Upload\\CS_286\\Project\\TFODCourse\\Tensorflow\\workspace\\images\\collectedimages\\plastic\\plastic (62).jpg -> Annotation:A:/Desktop/Spring_2024_Upload/CS_286/Project/TFODCourse/Tensorflow/workspace/images/collectedimages/plastic\\plastic (62).xml\n",
      "Image:A:\\Desktop\\Spring_2024_Upload\\CS_286\\Project\\TFODCourse\\Tensorflow\\workspace\\images\\collectedimages\\plastic\\plastic (63).jpg -> Annotation:A:/Desktop/Spring_2024_Upload/CS_286/Project/TFODCourse/Tensorflow/workspace/images/collectedimages/plastic\\plastic (63).xml\n",
      "Image:A:\\Desktop\\Spring_2024_Upload\\CS_286\\Project\\TFODCourse\\Tensorflow\\workspace\\images\\collectedimages\\plastic\\plastic (64).jpg -> Annotation:A:/Desktop/Spring_2024_Upload/CS_286/Project/TFODCourse/Tensorflow/workspace/images/collectedimages/plastic\\plastic (64).xml\n",
      "Image:A:\\Desktop\\Spring_2024_Upload\\CS_286\\Project\\TFODCourse\\Tensorflow\\workspace\\images\\collectedimages\\plastic\\plastic (65).jpg -> Annotation:A:/Desktop/Spring_2024_Upload/CS_286/Project/TFODCourse/Tensorflow/workspace/images/collectedimages/plastic\\plastic (65).xml\n",
      "Image:A:\\Desktop\\Spring_2024_Upload\\CS_286\\Project\\TFODCourse\\Tensorflow\\workspace\\images\\collectedimages\\plastic\\plastic (66).jpg -> Annotation:A:/Desktop/Spring_2024_Upload/CS_286/Project/TFODCourse/Tensorflow/workspace/images/collectedimages/plastic\\plastic (66).xml\n",
      "Cancel creation.\n",
      "Image:A:\\Desktop\\Spring_2024_Upload\\CS_286\\Project\\TFODCourse\\Tensorflow\\workspace\\images\\collectedimages\\plastic\\plastic (67).jpg -> Annotation:A:/Desktop/Spring_2024_Upload/CS_286/Project/TFODCourse/Tensorflow/workspace/images/collectedimages/plastic\\plastic (67).xml\n",
      "Image:A:\\Desktop\\Spring_2024_Upload\\CS_286\\Project\\TFODCourse\\Tensorflow\\workspace\\images\\collectedimages\\plastic\\plastic (68).jpg -> Annotation:A:/Desktop/Spring_2024_Upload/CS_286/Project/TFODCourse/Tensorflow/workspace/images/collectedimages/plastic\\plastic (68).xml\n",
      "Image:A:\\Desktop\\Spring_2024_Upload\\CS_286\\Project\\TFODCourse\\Tensorflow\\workspace\\images\\collectedimages\\plastic\\plastic (69).jpg -> Annotation:A:/Desktop/Spring_2024_Upload/CS_286/Project/TFODCourse/Tensorflow/workspace/images/collectedimages/plastic\\plastic (69).xml\n",
      "Image:A:\\Desktop\\Spring_2024_Upload\\CS_286\\Project\\TFODCourse\\Tensorflow\\workspace\\images\\collectedimages\\plastic\\plastic (69).jpg -> Annotation:A:/Desktop/Spring_2024_Upload/CS_286/Project/TFODCourse/Tensorflow/workspace/images/collectedimages/plastic\\plastic (69).xml\n",
      "Image:A:\\Desktop\\Spring_2024_Upload\\CS_286\\Project\\TFODCourse\\Tensorflow\\workspace\\images\\collectedimages\\plastic\\plastic (70).jpg -> Annotation:A:/Desktop/Spring_2024_Upload/CS_286/Project/TFODCourse/Tensorflow/workspace/images/collectedimages/plastic\\plastic (70).xml\n",
      "Image:A:\\Desktop\\Spring_2024_Upload\\CS_286\\Project\\TFODCourse\\Tensorflow\\workspace\\images\\collectedimages\\plastic\\plastic (71).jpg -> Annotation:A:/Desktop/Spring_2024_Upload/CS_286/Project/TFODCourse/Tensorflow/workspace/images/collectedimages/plastic\\plastic (71).xml\n",
      "Image:A:\\Desktop\\Spring_2024_Upload\\CS_286\\Project\\TFODCourse\\Tensorflow\\workspace\\images\\collectedimages\\plastic\\plastic (72).jpg -> Annotation:A:/Desktop/Spring_2024_Upload/CS_286/Project/TFODCourse/Tensorflow/workspace/images/collectedimages/plastic\\plastic (72).xml\n",
      "Image:A:\\Desktop\\Spring_2024_Upload\\CS_286\\Project\\TFODCourse\\Tensorflow\\workspace\\images\\collectedimages\\plastic\\plastic (73).jpg -> Annotation:A:/Desktop/Spring_2024_Upload/CS_286/Project/TFODCourse/Tensorflow/workspace/images/collectedimages/plastic\\plastic (73).xml\n",
      "Image:A:\\Desktop\\Spring_2024_Upload\\CS_286\\Project\\TFODCourse\\Tensorflow\\workspace\\images\\collectedimages\\plastic\\plastic (74).jpg -> Annotation:A:/Desktop/Spring_2024_Upload/CS_286/Project/TFODCourse/Tensorflow/workspace/images/collectedimages/plastic\\plastic (74).xml\n",
      "Image:A:\\Desktop\\Spring_2024_Upload\\CS_286\\Project\\TFODCourse\\Tensorflow\\workspace\\images\\collectedimages\\plastic\\plastic (75).jpg -> Annotation:A:/Desktop/Spring_2024_Upload/CS_286/Project/TFODCourse/Tensorflow/workspace/images/collectedimages/plastic\\plastic (75).xml\n"
     ]
    }
   ],
   "source": [
    "!cd {LABELIMG_PATH} && python labelImg.py"
   ]
  },
  {
   "cell_type": "markdown",
   "metadata": {},
   "source": [
    "# 6. Move them into a Training and Testing Partition"
   ]
  },
  {
   "cell_type": "markdown",
   "metadata": {},
   "source": [
    "# OPTIONAL - 7. Compress them for Colab Training"
   ]
  },
  {
   "cell_type": "code",
   "execution_count": 20,
   "metadata": {},
   "outputs": [],
   "source": [
    "TRAIN_PATH = os.path.join('Tensorflow', 'workspace', 'images', 'train')\n",
    "TEST_PATH = os.path.join('Tensorflow', 'workspace', 'images', 'test')\n",
    "ARCHIVE_PATH = os.path.join('Tensorflow', 'workspace', 'images', 'archive.tar.gz')"
   ]
  },
  {
   "cell_type": "code",
   "execution_count": 21,
   "metadata": {},
   "outputs": [],
   "source": [
    "!tar -czf {ARCHIVE_PATH} {TRAIN_PATH} {TEST_PATH}"
   ]
  },
  {
   "cell_type": "code",
   "execution_count": null,
   "metadata": {},
   "outputs": [],
   "source": []
  }
 ],
 "metadata": {
  "kernelspec": {
   "display_name": "286",
   "language": "python",
   "name": "python3"
  },
  "language_info": {
   "codemirror_mode": {
    "name": "ipython",
    "version": 3
   },
   "file_extension": ".py",
   "mimetype": "text/x-python",
   "name": "python",
   "nbconvert_exporter": "python",
   "pygments_lexer": "ipython3",
   "version": "3.9.19"
  }
 },
 "nbformat": 4,
 "nbformat_minor": 2
}
